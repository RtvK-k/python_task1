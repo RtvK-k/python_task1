{
 "cells": [
  {
   "cell_type": "code",
   "execution_count": 1,
   "id": "df202fde",
   "metadata": {},
   "outputs": [
    {
     "name": "stdout",
     "output_type": "stream",
     "text": [
      "1\n",
      "2\n",
      "3\n",
      "4\n",
      "5\n",
      "6\n"
     ]
    }
   ],
   "source": [
    "#1. Write a Python program to loop through all the elements in a list \n",
    "\n",
    "l = [1,2,3,4,5,6]\n",
    "for i in l:\n",
    "    print(i)"
   ]
  },
  {
   "cell_type": "code",
   "execution_count": 12,
   "id": "ebcf2caf",
   "metadata": {},
   "outputs": [
    {
     "name": "stdout",
     "output_type": "stream",
     "text": [
      "Enter print to print list\n",
      "Insert element: 7\n",
      "Press Enter to continue: \n",
      "Insert element: 8\n",
      "Press Enter to continue: \n",
      "Insert element: 9\n",
      "Press Enter to continue: \n",
      "Insert element: print\n",
      "[1, 2, 3, 4, 5, 6, '8', '9']\n"
     ]
    }
   ],
   "source": [
    "#2. Write a Python program where you will ask the users to insert elements in a list  \n",
    "\n",
    "l = [1,2,3,4,5,6]\n",
    "print(\"Enter print to print list\")\n",
    "n = input(\"Insert element: \")\n",
    "a = True\n",
    "while a == True:\n",
    "\n",
    "    b = input(\"Press Enter to continue: \")\n",
    "    n = input(\"Insert element: \")\n",
    "    \n",
    "    if n == \"print\":\n",
    "        print(l) \n",
    "        a = False\n",
    "    l.append(n)"
   ]
  },
  {
   "cell_type": "code",
   "execution_count": 85,
   "id": "74a474cc",
   "metadata": {},
   "outputs": [
    {
     "name": "stdout",
     "output_type": "stream",
     "text": [
      "[1, 3, 5, 7, 9]\n"
     ]
    }
   ],
   "source": [
    "#3. Write a Python program to remove all the odd index value from a list and only even index elements should remain\n",
    "\n",
    "l = [1,2,3,4,5,6,7,8,9,\"a\"]\n",
    "b = []\n",
    "for i in range(0,len(l),2):\n",
    "    b.append(l[i])\n",
    "print(b)   "
   ]
  },
  {
   "cell_type": "code",
   "execution_count": 42,
   "id": "d8032100",
   "metadata": {},
   "outputs": [
    {
     "name": "stdout",
     "output_type": "stream",
     "text": [
      "Output Sum: 10\n",
      "Output Product: 24\n"
     ]
    }
   ],
   "source": [
    "#4. Write a Python program to sum and multiply all the items in a list\n",
    "\n",
    "def multi(n):\n",
    "    c = 1\n",
    "    for i in n:\n",
    "        \n",
    "        c *=i\n",
    "    return c\n",
    "l = [1,2,3,4]\n",
    "a = sum(l)\n",
    "b = multi(l)\n",
    "print(\"Output Sum:\",a)\n",
    "print(\"Output Product:\",b)"
   ]
  },
  {
   "cell_type": "code",
   "execution_count": 50,
   "id": "5510f192",
   "metadata": {},
   "outputs": [
    {
     "name": "stdout",
     "output_type": "stream",
     "text": [
      "Max: 90 | Min: 4\n"
     ]
    }
   ],
   "source": [
    "#5. Write a Python program to get the maximum and minimum numbers from a list \n",
    "\n",
    "l = [8,4,11,7,90] \n",
    "print(\"Max:\",max(l),\"| Min:\",min(l))"
   ]
  },
  {
   "cell_type": "code",
   "execution_count": 87,
   "id": "f403773e",
   "metadata": {},
   "outputs": [
    {
     "name": "stdout",
     "output_type": "stream",
     "text": [
      "['Green', 'White', 'Black']\n"
     ]
    }
   ],
   "source": [
    "#6. Write a Python program to print a specified list after removing the 0th, 4th and 5th elements.\n",
    "\n",
    "l = ['Red', 'Green', 'White', 'Black', 'Pink', 'Yellow'] \n",
    "a = l[0]\n",
    "b = l[4]\n",
    "c = l[5]\n",
    "l.remove(a)\n",
    "l.remove(b)\n",
    "l.remove(c)\n",
    "print(l)"
   ]
  },
  {
   "cell_type": "code",
   "execution_count": 57,
   "id": "58172c45",
   "metadata": {},
   "outputs": [
    {
     "name": "stdout",
     "output_type": "stream",
     "text": [
      "abcd\n"
     ]
    }
   ],
   "source": [
    "#7. Write a Python program to convert a list of characters into a string \n",
    "\n",
    "s = ['a','b','c','d']\n",
    "a = \"\"\n",
    "for i in s:\n",
    "    a +=i\n",
    "print(a)    "
   ]
  },
  {
   "cell_type": "code",
   "execution_count": 64,
   "id": "6c60c93c",
   "metadata": {},
   "outputs": [
    {
     "data": {
      "text/plain": [
       "1.3333333333333333"
      ]
     },
     "execution_count": 64,
     "metadata": {},
     "output_type": "execute_result"
    }
   ],
   "source": [
    "#8 Write a Python program to compute average of given lists. \n",
    "\n",
    "def average(n):\n",
    "    b = 0\n",
    "    for i in n:\n",
    "        b += i\n",
    "    return b/len(n)   \n",
    "\n",
    "l = [1,2,1]\n",
    "average(l)"
   ]
  },
  {
   "cell_type": "code",
   "execution_count": 77,
   "id": "0048d9ed",
   "metadata": {},
   "outputs": [
    {
     "name": "stdout",
     "output_type": "stream",
     "text": [
      "3\n"
     ]
    }
   ],
   "source": [
    "#9. Write a Python program to count integer in a given mixed list.  \n",
    "\n",
    "l = [10, 'a',2,3,5.5,1.34,'Abc', 'rt'] \n",
    "count = 0\n",
    "for i in l:\n",
    "    if isinstance(i,int):\n",
    "        count +=1\n",
    "        \n",
    "print(count)        "
   ]
  },
  {
   "cell_type": "code",
   "execution_count": 82,
   "id": "72f53db8",
   "metadata": {},
   "outputs": [
    {
     "name": "stdout",
     "output_type": "stream",
     "text": [
      "[5, 4, 3, 2, 1]\n"
     ]
    }
   ],
   "source": [
    "#10. Write a Python program to reverse the list   \n",
    "\n",
    "l = [1,2,3,4,5]\n",
    "a = []\n",
    "for i in range(0,len(l)):\n",
    "    a.append(l[-i-1])\n",
    "print(a)    "
   ]
  },
  {
   "cell_type": "code",
   "execution_count": 84,
   "id": "a2f58961",
   "metadata": {},
   "outputs": [
    {
     "name": "stdout",
     "output_type": "stream",
     "text": [
      "('a', 'o', 'd', 'i', 'h', 'd', 'a')\n"
     ]
    }
   ],
   "source": [
    "#11. Write a Python program convert a given string to a tuple\n",
    "\n",
    "s = \"aodihda\"\n",
    "a = tuple(s)\n",
    "print(a)"
   ]
  }
 ],
 "metadata": {
  "kernelspec": {
   "display_name": "Python 3 (ipykernel)",
   "language": "python",
   "name": "python3"
  },
  "language_info": {
   "codemirror_mode": {
    "name": "ipython",
    "version": 3
   },
   "file_extension": ".py",
   "mimetype": "text/x-python",
   "name": "python",
   "nbconvert_exporter": "python",
   "pygments_lexer": "ipython3",
   "version": "3.9.12"
  }
 },
 "nbformat": 4,
 "nbformat_minor": 5
}
